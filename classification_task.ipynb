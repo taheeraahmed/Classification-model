{
 "metadata": {
  "language_info": {
   "codemirror_mode": {
    "name": "ipython",
    "version": 3
   },
   "file_extension": ".py",
   "mimetype": "text/x-python",
   "name": "python",
   "nbconvert_exporter": "python",
   "pygments_lexer": "ipython3",
   "version": "3.9.5"
  },
  "orig_nbformat": 4,
  "kernelspec": {
   "name": "python3",
   "display_name": "Python 3.9.5 64-bit"
  },
  "interpreter": {
   "hash": "aee8b7b246df8f9039afb4144a1f6fd8d2ca17a180786b69acc140d282b71a49"
  }
 },
 "nbformat": 4,
 "nbformat_minor": 2,
 "cells": [
  {
   "source": [
    "# Classification with deep learning\n",
    "\n",
    "In this project I will use a dataset from Kaggle. The goal is to predict the survival rate of patients with heart failure from certain factors like age, anemia, diabetes.. \n",
    "\n",
    "Cardiovascular diseases are the #1 cause of death globally, and it takes 17.9 million lives each year. This accounts for 31% percent of all deaths world wide!\n",
    "\n",
    "These deaths are avoidable and can be prevented by addressing behavioural risk factors like smoking and an unhealthy diet. \n",
    "\n",
    "People with high risk of cardiovasucalar disease need an early detection and management. This is where the deep learning model comes in. \n"
   ],
   "cell_type": "markdown",
   "metadata": {}
  },
  {
   "cell_type": "code",
   "execution_count": 44,
   "metadata": {},
   "outputs": [],
   "source": [
    "import pandas as pd\n",
    "import matplotlib.pyplot as plt\n",
    "from sklearn.preprocessing import StandardScaler, LabelEncoder\n",
    "from sklearn.model_selection import train_test_split\n",
    "from collections import Counter\n",
    "from sklearn.compose import ColumnTransformer\n",
    "from tensorflow.keras.models import Sequential\n",
    "from tensorflow.keras.layers import Dense, InputLayer\n",
    "from sklearn.metrics import classification_report\n",
    "from tensorflow.keras.utils import to_categorical\n",
    "import numpy as np"
   ]
  },
  {
   "source": [
    "## Loading data\n",
    "Here we need to load the data, get the distribution of our label column ('death_event') and extract the features and labels"
   ],
   "cell_type": "markdown",
   "metadata": {}
  },
  {
   "cell_type": "code",
   "execution_count": 3,
   "metadata": {},
   "outputs": [
    {
     "output_type": "stream",
     "name": "stdout",
     "text": [
      "<class 'pandas.core.frame.DataFrame'>\nRangeIndex: 299 entries, 0 to 298\nData columns (total 15 columns):\n #   Column                    Non-Null Count  Dtype  \n---  ------                    --------------  -----  \n 0   Unnamed: 0                299 non-null    int64  \n 1   age                       299 non-null    float64\n 2   anaemia                   299 non-null    object \n 3   creatinine_phosphokinase  299 non-null    int64  \n 4   diabetes                  299 non-null    object \n 5   ejection_fraction         299 non-null    int64  \n 6   high_blood_pressure       299 non-null    object \n 7   platelets                 299 non-null    float64\n 8   serum_creatinine          299 non-null    float64\n 9   serum_sodium              299 non-null    int64  \n 10  sex                       299 non-null    object \n 11  smoking                   299 non-null    object \n 12  time                      299 non-null    int64  \n 13  DEATH_EVENT               299 non-null    int64  \n 14  death_event               299 non-null    object \ndtypes: float64(3), int64(6), object(6)\nmemory usage: 35.2+ KB\nNone\n"
     ]
    }
   ],
   "source": [
    "data = pd.read_csv('heart_failure.csv')\n",
    "print(data.info())"
   ]
  },
  {
   "source": [
    "We need to find the distribution of death_event, because this is the column we will predict. "
   ],
   "cell_type": "markdown",
   "metadata": {}
  },
  {
   "cell_type": "code",
   "execution_count": 4,
   "metadata": {},
   "outputs": [
    {
     "output_type": "execute_result",
     "data": {
      "text/plain": [
       "Counter({'yes': 96, 'no': 203})"
      ]
     },
     "metadata": {},
     "execution_count": 4
    }
   ],
   "source": [
    "Counter(data['death_event'])"
   ]
  },
  {
   "cell_type": "code",
   "execution_count": 5,
   "metadata": {},
   "outputs": [],
   "source": [
    "y = data['DEATH_EVENT']\n",
    "x = data[['age','anaemia','creatinine_phosphokinase','diabetes','ejection_fraction','high_blood_pressure','platelets','serum_creatinine','serum_sodium','sex','smoking','time']]"
   ]
  },
  {
   "source": [
    "## Data preprocessing\n",
    "In this step we need to (1) create one-hot encoding vectors for the non-numerical attributes, (2) make train and test split, (3) scale the numeric features"
   ],
   "cell_type": "markdown",
   "metadata": {}
  },
  {
   "cell_type": "code",
   "execution_count": 6,
   "metadata": {},
   "outputs": [],
   "source": [
    "#1 \n",
    "x = pd.get_dummies(x)\n",
    "\n",
    "#2\n",
    "X_train, X_test, Y_train, Y_test = train_test_split(x,y, train_size=0.33, random_state=20)\n",
    "\n",
    "#3\n",
    "ct = ColumnTransformer([(\"standard\", StandardScaler(),['age','creatinine_phosphokinase','ejection_fraction','platelets','serum_creatinine','serum_sodium','time'])])\n",
    "\n",
    "X_train = ct.fit_transform(X_train)\n",
    "X_test = ct.transform(X_test)\n"
   ]
  },
  {
   "source": [
    "## Preparing labels for classification\n",
    "Here we must (1) use a label encoder (2) in order to fit_transform the attributes (3) in order to transform the encoded labels in to a binary vector"
   ],
   "cell_type": "markdown",
   "metadata": {}
  },
  {
   "cell_type": "code",
   "execution_count": 7,
   "metadata": {},
   "outputs": [],
   "source": [
    "# 1\n",
    "le = LabelEncoder()\n",
    "\n",
    "#2\n",
    "Y_train = le.fit_transform(Y_train.astype(str))\n",
    "Y_test = le.transform(Y_test.astype(str))\n",
    "\n",
    "#3\n",
    "Y_train = to_categorical(Y_train)\n",
    "Y_test = to_categorical(Y_test)"
   ]
  },
  {
   "source": [
    "## Designing the model\n",
    "Here we are going to define a function in order to create the model we are going to use for this classification task.\n",
    "\n",
    "It is going to have:\n",
    "- 1 hidden layer with 12 nodes which uses the relu activation function\n",
    "- an output layer with 2 nodes which uses the softmax activation function\n",
    "\n",
    "As for the loss function it is going to use categorical crossentropy, and the optimizer in use is Adam. "
   ],
   "cell_type": "markdown",
   "metadata": {}
  },
  {
   "cell_type": "code",
   "execution_count": 46,
   "metadata": {},
   "outputs": [
    {
     "output_type": "stream",
     "name": "stdout",
     "text": [
      "Model: \"sequential_1\"\n_________________________________________________________________\nLayer (type)                 Output Shape              Param #   \n=================================================================\ndense_2 (Dense)              (None, 15)                120       \n_________________________________________________________________\ndense_3 (Dense)              (None, 2)                 32        \n=================================================================\nTotal params: 152\nTrainable params: 152\nNon-trainable params: 0\n_________________________________________________________________\nNone\n"
     ]
    }
   ],
   "source": [
    "def create_model(features):\n",
    "    model = Sequential()\n",
    "    # Creating the input layer\n",
    "    input = InputLayer(input_shape=(features.shape[1],))\n",
    "    model.add(input)\n",
    "\n",
    "    # Hidden layer\n",
    "    model.add(Dense(15,activation='relu'))\n",
    "\n",
    "    #Output layer\n",
    "    model.add(Dense(2,activation='softmax'))\n",
    "\n",
    "    # Printing the model\n",
    "    print(model.summary())\n",
    "\n",
    "    model.compile(loss='categorical_crossentropy', optimizer='adam', metrics = ['accuracy'])\n",
    "\n",
    "    return model\n",
    "\n",
    "model = create_model(X_train)\n"
   ]
  },
  {
   "source": [
    "## Training and evaluating the model"
   ],
   "cell_type": "markdown",
   "metadata": {}
  },
  {
   "cell_type": "code",
   "execution_count": 47,
   "metadata": {},
   "outputs": [
    {
     "output_type": "stream",
     "name": "stdout",
     "text": [
      "Epoch 1/100\n",
      "98/98 [==============================] - 0s 1ms/step - loss: 0.7866 - accuracy: 0.3980\n",
      "Epoch 2/100\n",
      "98/98 [==============================] - 0s 2ms/step - loss: 0.6390 - accuracy: 0.6735\n",
      "Epoch 3/100\n",
      "98/98 [==============================] - 0s 1ms/step - loss: 0.5536 - accuracy: 0.7959\n",
      "Epoch 4/100\n",
      "98/98 [==============================] - 0s 1ms/step - loss: 0.4972 - accuracy: 0.7959\n",
      "Epoch 5/100\n",
      "98/98 [==============================] - 0s 911us/step - loss: 0.4559 - accuracy: 0.8061\n",
      "Epoch 6/100\n",
      "98/98 [==============================] - 0s 883us/step - loss: 0.4244 - accuracy: 0.8469\n",
      "Epoch 7/100\n",
      "98/98 [==============================] - 0s 1ms/step - loss: 0.4031 - accuracy: 0.8367\n",
      "Epoch 8/100\n",
      "98/98 [==============================] - 0s 1ms/step - loss: 0.3867 - accuracy: 0.8469\n",
      "Epoch 9/100\n",
      "98/98 [==============================] - 0s 1ms/step - loss: 0.3721 - accuracy: 0.8163\n",
      "Epoch 10/100\n",
      "98/98 [==============================] - 0s 905us/step - loss: 0.3607 - accuracy: 0.8367\n",
      "Epoch 11/100\n",
      "98/98 [==============================] - 0s 968us/step - loss: 0.3531 - accuracy: 0.8265\n",
      "Epoch 12/100\n",
      "98/98 [==============================] - 0s 1ms/step - loss: 0.3455 - accuracy: 0.8265\n",
      "Epoch 13/100\n",
      "98/98 [==============================] - 0s 863us/step - loss: 0.3380 - accuracy: 0.8469\n",
      "Epoch 14/100\n",
      "98/98 [==============================] - 0s 2ms/step - loss: 0.3310 - accuracy: 0.8469\n",
      "Epoch 15/100\n",
      "98/98 [==============================] - 0s 950us/step - loss: 0.3269 - accuracy: 0.8469\n",
      "Epoch 16/100\n",
      "98/98 [==============================] - 0s 957us/step - loss: 0.3210 - accuracy: 0.8469\n",
      "Epoch 17/100\n",
      "98/98 [==============================] - 0s 1ms/step - loss: 0.3181 - accuracy: 0.8469\n",
      "Epoch 18/100\n",
      "98/98 [==============================] - 0s 1ms/step - loss: 0.3134 - accuracy: 0.8469\n",
      "Epoch 19/100\n",
      "98/98 [==============================] - 0s 1ms/step - loss: 0.3078 - accuracy: 0.8469\n",
      "Epoch 20/100\n",
      "98/98 [==============================] - 0s 860us/step - loss: 0.3035 - accuracy: 0.8673\n",
      "Epoch 21/100\n",
      "98/98 [==============================] - 0s 1ms/step - loss: 0.2997 - accuracy: 0.8673\n",
      "Epoch 22/100\n",
      "98/98 [==============================] - 0s 1ms/step - loss: 0.2974 - accuracy: 0.8673\n",
      "Epoch 23/100\n",
      "98/98 [==============================] - 0s 1ms/step - loss: 0.2918 - accuracy: 0.8673\n",
      "Epoch 24/100\n",
      "98/98 [==============================] - 0s 1ms/step - loss: 0.2881 - accuracy: 0.8673\n",
      "Epoch 25/100\n",
      "98/98 [==============================] - 0s 1ms/step - loss: 0.2849 - accuracy: 0.8878\n",
      "Epoch 26/100\n",
      "98/98 [==============================] - 0s 965us/step - loss: 0.2796 - accuracy: 0.8878\n",
      "Epoch 27/100\n",
      "98/98 [==============================] - 0s 954us/step - loss: 0.2782 - accuracy: 0.8980\n",
      "Epoch 28/100\n",
      "98/98 [==============================] - 0s 1ms/step - loss: 0.2729 - accuracy: 0.8980\n",
      "Epoch 29/100\n",
      "98/98 [==============================] - 0s 1ms/step - loss: 0.2698 - accuracy: 0.8980\n",
      "Epoch 30/100\n",
      "98/98 [==============================] - 0s 1ms/step - loss: 0.2647 - accuracy: 0.8980\n",
      "Epoch 31/100\n",
      "98/98 [==============================] - 0s 978us/step - loss: 0.2617 - accuracy: 0.9082\n",
      "Epoch 32/100\n",
      "98/98 [==============================] - 0s 1ms/step - loss: 0.2590 - accuracy: 0.9082\n",
      "Epoch 33/100\n",
      "98/98 [==============================] - 0s 1ms/step - loss: 0.2553 - accuracy: 0.9082\n",
      "Epoch 34/100\n",
      "98/98 [==============================] - 0s 1ms/step - loss: 0.2520 - accuracy: 0.8980\n",
      "Epoch 35/100\n",
      "98/98 [==============================] - 0s 1ms/step - loss: 0.2484 - accuracy: 0.9082\n",
      "Epoch 36/100\n",
      "98/98 [==============================] - 0s 1ms/step - loss: 0.2449 - accuracy: 0.9082\n",
      "Epoch 37/100\n",
      "98/98 [==============================] - 0s 1ms/step - loss: 0.2411 - accuracy: 0.9082\n",
      "Epoch 38/100\n",
      "98/98 [==============================] - 0s 1ms/step - loss: 0.2385 - accuracy: 0.9184\n",
      "Epoch 39/100\n",
      "98/98 [==============================] - 0s 926us/step - loss: 0.2345 - accuracy: 0.9184\n",
      "Epoch 40/100\n",
      "98/98 [==============================] - 0s 980us/step - loss: 0.2309 - accuracy: 0.9184\n",
      "Epoch 41/100\n",
      "98/98 [==============================] - 0s 1ms/step - loss: 0.2284 - accuracy: 0.9184\n",
      "Epoch 42/100\n",
      "98/98 [==============================] - 0s 1ms/step - loss: 0.2242 - accuracy: 0.9184\n",
      "Epoch 43/100\n",
      "98/98 [==============================] - 0s 931us/step - loss: 0.2219 - accuracy: 0.9184\n",
      "Epoch 44/100\n",
      "98/98 [==============================] - 0s 1ms/step - loss: 0.2175 - accuracy: 0.9184\n",
      "Epoch 45/100\n",
      "98/98 [==============================] - 0s 991us/step - loss: 0.2148 - accuracy: 0.9286\n",
      "Epoch 46/100\n",
      "98/98 [==============================] - 0s 866us/step - loss: 0.2116 - accuracy: 0.9184\n",
      "Epoch 47/100\n",
      "98/98 [==============================] - 0s 930us/step - loss: 0.2090 - accuracy: 0.9184\n",
      "Epoch 48/100\n",
      "98/98 [==============================] - 0s 1ms/step - loss: 0.2047 - accuracy: 0.9286\n",
      "Epoch 49/100\n",
      "98/98 [==============================] - 0s 1ms/step - loss: 0.2023 - accuracy: 0.9184\n",
      "Epoch 50/100\n",
      "98/98 [==============================] - 0s 1ms/step - loss: 0.2007 - accuracy: 0.9388\n",
      "Epoch 51/100\n",
      "98/98 [==============================] - 0s 1ms/step - loss: 0.1947 - accuracy: 0.9490\n",
      "Epoch 52/100\n",
      "98/98 [==============================] - 0s 3ms/step - loss: 0.1926 - accuracy: 0.9286\n",
      "Epoch 53/100\n",
      "98/98 [==============================] - 0s 2ms/step - loss: 0.1906 - accuracy: 0.9490\n",
      "Epoch 54/100\n",
      "98/98 [==============================] - 0s 1ms/step - loss: 0.1876 - accuracy: 0.9388\n",
      "Epoch 55/100\n",
      "98/98 [==============================] - 0s 1ms/step - loss: 0.1836 - accuracy: 0.9490\n",
      "Epoch 56/100\n",
      "98/98 [==============================] - 0s 1ms/step - loss: 0.1801 - accuracy: 0.9490\n",
      "Epoch 57/100\n",
      "98/98 [==============================] - 0s 1ms/step - loss: 0.1786 - accuracy: 0.9388\n",
      "Epoch 58/100\n",
      "98/98 [==============================] - 0s 1ms/step - loss: 0.1773 - accuracy: 0.9490\n",
      "Epoch 59/100\n",
      "98/98 [==============================] - 0s 1ms/step - loss: 0.1720 - accuracy: 0.9490\n",
      "Epoch 60/100\n",
      "98/98 [==============================] - 0s 2ms/step - loss: 0.1713 - accuracy: 0.9490\n",
      "Epoch 61/100\n",
      "98/98 [==============================] - 0s 2ms/step - loss: 0.1679 - accuracy: 0.9490\n",
      "Epoch 62/100\n",
      "98/98 [==============================] - 0s 1ms/step - loss: 0.1637 - accuracy: 0.9490\n",
      "Epoch 63/100\n",
      "98/98 [==============================] - 0s 1ms/step - loss: 0.1622 - accuracy: 0.9490\n",
      "Epoch 64/100\n",
      "98/98 [==============================] - 0s 1ms/step - loss: 0.1593 - accuracy: 0.9490\n",
      "Epoch 65/100\n",
      "98/98 [==============================] - 0s 954us/step - loss: 0.1577 - accuracy: 0.9490\n",
      "Epoch 66/100\n",
      "98/98 [==============================] - 0s 1ms/step - loss: 0.1539 - accuracy: 0.9592\n",
      "Epoch 67/100\n",
      "98/98 [==============================] - 0s 1ms/step - loss: 0.1504 - accuracy: 0.9592\n",
      "Epoch 68/100\n",
      "98/98 [==============================] - 0s 1ms/step - loss: 0.1483 - accuracy: 0.9592\n",
      "Epoch 69/100\n",
      "98/98 [==============================] - 0s 1ms/step - loss: 0.1454 - accuracy: 0.9592\n",
      "Epoch 70/100\n",
      "98/98 [==============================] - 0s 1ms/step - loss: 0.1433 - accuracy: 0.9592\n",
      "Epoch 71/100\n",
      "98/98 [==============================] - 0s 1ms/step - loss: 0.1409 - accuracy: 0.9592\n",
      "Epoch 72/100\n",
      "98/98 [==============================] - 0s 1ms/step - loss: 0.1387 - accuracy: 0.9592\n",
      "Epoch 73/100\n",
      "98/98 [==============================] - 0s 881us/step - loss: 0.1367 - accuracy: 0.9592\n",
      "Epoch 74/100\n",
      "98/98 [==============================] - 0s 991us/step - loss: 0.1355 - accuracy: 0.9592\n",
      "Epoch 75/100\n",
      "98/98 [==============================] - 0s 1ms/step - loss: 0.1327 - accuracy: 0.9592\n",
      "Epoch 76/100\n",
      "98/98 [==============================] - 0s 1ms/step - loss: 0.1302 - accuracy: 0.9592\n",
      "Epoch 77/100\n",
      "98/98 [==============================] - 0s 1ms/step - loss: 0.1288 - accuracy: 0.9592\n",
      "Epoch 78/100\n",
      "98/98 [==============================] - 0s 1ms/step - loss: 0.1261 - accuracy: 0.9592\n",
      "Epoch 79/100\n",
      "98/98 [==============================] - 0s 1ms/step - loss: 0.1247 - accuracy: 0.9592\n",
      "Epoch 80/100\n",
      "98/98 [==============================] - 0s 1ms/step - loss: 0.1226 - accuracy: 0.9592\n",
      "Epoch 81/100\n",
      "98/98 [==============================] - 0s 2ms/step - loss: 0.1220 - accuracy: 0.9592\n",
      "Epoch 82/100\n",
      "98/98 [==============================] - 0s 1ms/step - loss: 0.1175 - accuracy: 0.9592\n",
      "Epoch 83/100\n",
      "98/98 [==============================] - 0s 1ms/step - loss: 0.1162 - accuracy: 0.9592\n",
      "Epoch 84/100\n",
      "98/98 [==============================] - 0s 1ms/step - loss: 0.1141 - accuracy: 0.9592\n",
      "Epoch 85/100\n",
      "98/98 [==============================] - 0s 1ms/step - loss: 0.1114 - accuracy: 0.9592\n",
      "Epoch 86/100\n",
      "98/98 [==============================] - 0s 995us/step - loss: 0.1102 - accuracy: 0.9592\n",
      "Epoch 87/100\n",
      "98/98 [==============================] - 0s 1ms/step - loss: 0.1097 - accuracy: 0.9592\n",
      "Epoch 88/100\n",
      "98/98 [==============================] - 0s 1ms/step - loss: 0.1069 - accuracy: 0.9694\n",
      "Epoch 89/100\n",
      "98/98 [==============================] - 0s 1ms/step - loss: 0.1049 - accuracy: 0.9592\n",
      "Epoch 90/100\n",
      "98/98 [==============================] - 0s 1ms/step - loss: 0.1030 - accuracy: 0.9694\n",
      "Epoch 91/100\n",
      "98/98 [==============================] - 0s 985us/step - loss: 0.1008 - accuracy: 0.9694\n",
      "Epoch 92/100\n",
      "98/98 [==============================] - 0s 1ms/step - loss: 0.1007 - accuracy: 0.9694\n",
      "Epoch 93/100\n",
      "98/98 [==============================] - 0s 1ms/step - loss: 0.0986 - accuracy: 0.9796\n",
      "Epoch 94/100\n",
      "98/98 [==============================] - 0s 1ms/step - loss: 0.0963 - accuracy: 0.9694\n",
      "Epoch 95/100\n",
      "98/98 [==============================] - 0s 1ms/step - loss: 0.0960 - accuracy: 0.9898\n",
      "Epoch 96/100\n",
      "98/98 [==============================] - 0s 1ms/step - loss: 0.0936 - accuracy: 0.9796\n",
      "Epoch 97/100\n",
      "98/98 [==============================] - 0s 1ms/step - loss: 0.0913 - accuracy: 0.9694\n",
      "Epoch 98/100\n",
      "98/98 [==============================] - 0s 1ms/step - loss: 0.0893 - accuracy: 0.9898\n",
      "Epoch 99/100\n",
      "98/98 [==============================] - 0s 1ms/step - loss: 0.0887 - accuracy: 0.9796\n",
      "Epoch 100/100\n",
      "98/98 [==============================] - 0s 1ms/step - loss: 0.0862 - accuracy: 0.9898\n"
     ]
    }
   ],
   "source": [
    "history = model.fit(X_train, Y_train, epochs=100, batch_size=1, verbose = 1)"
   ]
  },
  {
   "cell_type": "code",
   "execution_count": 48,
   "metadata": {},
   "outputs": [
    {
     "output_type": "stream",
     "name": "stdout",
     "text": [
      "The loss is 60.30872464179993% and the accuracy is 80.09950518608093%\n"
     ]
    }
   ],
   "source": [
    "loss, acc = model.evaluate(X_test, Y_test, verbose=0)\n",
    "\n",
    "print(f\"The loss is {loss*100}% and the accuracy is {acc*100}%\")"
   ]
  },
  {
   "source": [
    "## Classification report"
   ],
   "cell_type": "markdown",
   "metadata": {}
  },
  {
   "cell_type": "code",
   "execution_count": 49,
   "metadata": {},
   "outputs": [
    {
     "output_type": "stream",
     "name": "stdout",
     "text": [
      "              precision    recall  f1-score   support\n\n           0       0.84      0.88      0.86       138\n           1       0.70      0.63      0.67        63\n\n    accuracy                           0.80       201\n   macro avg       0.77      0.76      0.76       201\nweighted avg       0.80      0.80      0.80       201\n\n"
     ]
    }
   ],
   "source": [
    "y_estimate = model.predict(X_test, verbose=0)\n",
    "y_estimate = np.argmax(y_estimate, axis=1)\n",
    "y_true = np.argmax(Y_test, axis=1)\n",
    "\n",
    "print(classification_report(y_true,y_estimate))"
   ]
  },
  {
   "source": [
    "## Plots"
   ],
   "cell_type": "markdown",
   "metadata": {}
  },
  {
   "cell_type": "code",
   "execution_count": 50,
   "metadata": {},
   "outputs": [
    {
     "output_type": "display_data",
     "data": {
      "text/plain": "<Figure size 936x720 with 1 Axes>",
      "image/svg+xml": "<?xml version=\"1.0\" encoding=\"utf-8\" standalone=\"no\"?>\n<!DOCTYPE svg PUBLIC \"-//W3C//DTD SVG 1.1//EN\"\n  \"http://www.w3.org/Graphics/SVG/1.1/DTD/svg11.dtd\">\n<svg height=\"306.965284pt\" version=\"1.1\" viewBox=\"0 0 776.38125 306.965284\" width=\"776.38125pt\" xmlns=\"http://www.w3.org/2000/svg\" xmlns:xlink=\"http://www.w3.org/1999/xlink\">\n <metadata>\n  <rdf:RDF xmlns:cc=\"http://creativecommons.org/ns#\" xmlns:dc=\"http://purl.org/dc/elements/1.1/\" xmlns:rdf=\"http://www.w3.org/1999/02/22-rdf-syntax-ns#\">\n   <cc:Work>\n    <dc:type rdf:resource=\"http://purl.org/dc/dcmitype/StillImage\"/>\n    <dc:date>2021-06-24T10:58:41.767248</dc:date>\n    <dc:format>image/svg+xml</dc:format>\n    <dc:creator>\n     <cc:Agent>\n      <dc:title>Matplotlib v3.4.2, https://matplotlib.org/</dc:title>\n     </cc:Agent>\n    </dc:creator>\n   </cc:Work>\n  </rdf:RDF>\n </metadata>\n <defs>\n  <style type=\"text/css\">*{stroke-linecap:butt;stroke-linejoin:round;}</style>\n </defs>\n <g id=\"figure_1\">\n  <g id=\"patch_1\">\n   <path d=\"M 0 306.965284 \nL 776.38125 306.965284 \nL 776.38125 0 \nL 0 0 \nz\n\" style=\"fill:none;\"/>\n  </g>\n  <g id=\"axes_1\">\n   <g id=\"patch_2\">\n    <path d=\"M 43.78125 269.409034 \nL 769.18125 269.409034 \nL 769.18125 22.318125 \nL 43.78125 22.318125 \nz\n\" style=\"fill:#ffffff;\"/>\n   </g>\n   <g id=\"matplotlib.axis_1\">\n    <g id=\"xtick_1\">\n     <g id=\"line2d_1\">\n      <defs>\n       <path d=\"M 0 0 \nL 0 3.5 \n\" id=\"m8c76a3119f\" style=\"stroke:#000000;stroke-width:0.8;\"/>\n      </defs>\n      <g>\n       <use style=\"stroke:#000000;stroke-width:0.8;\" x=\"76.753977\" xlink:href=\"#m8c76a3119f\" y=\"269.409034\"/>\n      </g>\n     </g>\n     <g id=\"text_1\">\n      <!-- 0 -->\n      <g transform=\"translate(73.572727 284.007472)scale(0.1 -0.1)\">\n       <defs>\n        <path d=\"M 2034 4250 \nQ 1547 4250 1301 3770 \nQ 1056 3291 1056 2328 \nQ 1056 1369 1301 889 \nQ 1547 409 2034 409 \nQ 2525 409 2770 889 \nQ 3016 1369 3016 2328 \nQ 3016 3291 2770 3770 \nQ 2525 4250 2034 4250 \nz\nM 2034 4750 \nQ 2819 4750 3233 4129 \nQ 3647 3509 3647 2328 \nQ 3647 1150 3233 529 \nQ 2819 -91 2034 -91 \nQ 1250 -91 836 529 \nQ 422 1150 422 2328 \nQ 422 3509 836 4129 \nQ 1250 4750 2034 4750 \nz\n\" id=\"DejaVuSans-30\" transform=\"scale(0.015625)\"/>\n       </defs>\n       <use xlink:href=\"#DejaVuSans-30\"/>\n      </g>\n     </g>\n    </g>\n    <g id=\"xtick_2\">\n     <g id=\"line2d_2\">\n      <g>\n       <use style=\"stroke:#000000;stroke-width:0.8;\" x=\"209.977118\" xlink:href=\"#m8c76a3119f\" y=\"269.409034\"/>\n      </g>\n     </g>\n     <g id=\"text_2\">\n      <!-- 20 -->\n      <g transform=\"translate(203.614618 284.007472)scale(0.1 -0.1)\">\n       <defs>\n        <path d=\"M 1228 531 \nL 3431 531 \nL 3431 0 \nL 469 0 \nL 469 531 \nQ 828 903 1448 1529 \nQ 2069 2156 2228 2338 \nQ 2531 2678 2651 2914 \nQ 2772 3150 2772 3378 \nQ 2772 3750 2511 3984 \nQ 2250 4219 1831 4219 \nQ 1534 4219 1204 4116 \nQ 875 4013 500 3803 \nL 500 4441 \nQ 881 4594 1212 4672 \nQ 1544 4750 1819 4750 \nQ 2544 4750 2975 4387 \nQ 3406 4025 3406 3419 \nQ 3406 3131 3298 2873 \nQ 3191 2616 2906 2266 \nQ 2828 2175 2409 1742 \nQ 1991 1309 1228 531 \nz\n\" id=\"DejaVuSans-32\" transform=\"scale(0.015625)\"/>\n       </defs>\n       <use xlink:href=\"#DejaVuSans-32\"/>\n       <use x=\"63.623047\" xlink:href=\"#DejaVuSans-30\"/>\n      </g>\n     </g>\n    </g>\n    <g id=\"xtick_3\">\n     <g id=\"line2d_3\">\n      <g>\n       <use style=\"stroke:#000000;stroke-width:0.8;\" x=\"343.200258\" xlink:href=\"#m8c76a3119f\" y=\"269.409034\"/>\n      </g>\n     </g>\n     <g id=\"text_3\">\n      <!-- 40 -->\n      <g transform=\"translate(336.837758 284.007472)scale(0.1 -0.1)\">\n       <defs>\n        <path d=\"M 2419 4116 \nL 825 1625 \nL 2419 1625 \nL 2419 4116 \nz\nM 2253 4666 \nL 3047 4666 \nL 3047 1625 \nL 3713 1625 \nL 3713 1100 \nL 3047 1100 \nL 3047 0 \nL 2419 0 \nL 2419 1100 \nL 313 1100 \nL 313 1709 \nL 2253 4666 \nz\n\" id=\"DejaVuSans-34\" transform=\"scale(0.015625)\"/>\n       </defs>\n       <use xlink:href=\"#DejaVuSans-34\"/>\n       <use x=\"63.623047\" xlink:href=\"#DejaVuSans-30\"/>\n      </g>\n     </g>\n    </g>\n    <g id=\"xtick_4\">\n     <g id=\"line2d_4\">\n      <g>\n       <use style=\"stroke:#000000;stroke-width:0.8;\" x=\"476.423399\" xlink:href=\"#m8c76a3119f\" y=\"269.409034\"/>\n      </g>\n     </g>\n     <g id=\"text_4\">\n      <!-- 60 -->\n      <g transform=\"translate(470.060899 284.007472)scale(0.1 -0.1)\">\n       <defs>\n        <path d=\"M 2113 2584 \nQ 1688 2584 1439 2293 \nQ 1191 2003 1191 1497 \nQ 1191 994 1439 701 \nQ 1688 409 2113 409 \nQ 2538 409 2786 701 \nQ 3034 994 3034 1497 \nQ 3034 2003 2786 2293 \nQ 2538 2584 2113 2584 \nz\nM 3366 4563 \nL 3366 3988 \nQ 3128 4100 2886 4159 \nQ 2644 4219 2406 4219 \nQ 1781 4219 1451 3797 \nQ 1122 3375 1075 2522 \nQ 1259 2794 1537 2939 \nQ 1816 3084 2150 3084 \nQ 2853 3084 3261 2657 \nQ 3669 2231 3669 1497 \nQ 3669 778 3244 343 \nQ 2819 -91 2113 -91 \nQ 1303 -91 875 529 \nQ 447 1150 447 2328 \nQ 447 3434 972 4092 \nQ 1497 4750 2381 4750 \nQ 2619 4750 2861 4703 \nQ 3103 4656 3366 4563 \nz\n\" id=\"DejaVuSans-36\" transform=\"scale(0.015625)\"/>\n       </defs>\n       <use xlink:href=\"#DejaVuSans-36\"/>\n       <use x=\"63.623047\" xlink:href=\"#DejaVuSans-30\"/>\n      </g>\n     </g>\n    </g>\n    <g id=\"xtick_5\">\n     <g id=\"line2d_5\">\n      <g>\n       <use style=\"stroke:#000000;stroke-width:0.8;\" x=\"609.646539\" xlink:href=\"#m8c76a3119f\" y=\"269.409034\"/>\n      </g>\n     </g>\n     <g id=\"text_5\">\n      <!-- 80 -->\n      <g transform=\"translate(603.284039 284.007472)scale(0.1 -0.1)\">\n       <defs>\n        <path d=\"M 2034 2216 \nQ 1584 2216 1326 1975 \nQ 1069 1734 1069 1313 \nQ 1069 891 1326 650 \nQ 1584 409 2034 409 \nQ 2484 409 2743 651 \nQ 3003 894 3003 1313 \nQ 3003 1734 2745 1975 \nQ 2488 2216 2034 2216 \nz\nM 1403 2484 \nQ 997 2584 770 2862 \nQ 544 3141 544 3541 \nQ 544 4100 942 4425 \nQ 1341 4750 2034 4750 \nQ 2731 4750 3128 4425 \nQ 3525 4100 3525 3541 \nQ 3525 3141 3298 2862 \nQ 3072 2584 2669 2484 \nQ 3125 2378 3379 2068 \nQ 3634 1759 3634 1313 \nQ 3634 634 3220 271 \nQ 2806 -91 2034 -91 \nQ 1263 -91 848 271 \nQ 434 634 434 1313 \nQ 434 1759 690 2068 \nQ 947 2378 1403 2484 \nz\nM 1172 3481 \nQ 1172 3119 1398 2916 \nQ 1625 2713 2034 2713 \nQ 2441 2713 2670 2916 \nQ 2900 3119 2900 3481 \nQ 2900 3844 2670 4047 \nQ 2441 4250 2034 4250 \nQ 1625 4250 1398 4047 \nQ 1172 3844 1172 3481 \nz\n\" id=\"DejaVuSans-38\" transform=\"scale(0.015625)\"/>\n       </defs>\n       <use xlink:href=\"#DejaVuSans-38\"/>\n       <use x=\"63.623047\" xlink:href=\"#DejaVuSans-30\"/>\n      </g>\n     </g>\n    </g>\n    <g id=\"xtick_6\">\n     <g id=\"line2d_6\">\n      <g>\n       <use style=\"stroke:#000000;stroke-width:0.8;\" x=\"742.86968\" xlink:href=\"#m8c76a3119f\" y=\"269.409034\"/>\n      </g>\n     </g>\n     <g id=\"text_6\">\n      <!-- 100 -->\n      <g transform=\"translate(733.32593 284.007472)scale(0.1 -0.1)\">\n       <defs>\n        <path d=\"M 794 531 \nL 1825 531 \nL 1825 4091 \nL 703 3866 \nL 703 4441 \nL 1819 4666 \nL 2450 4666 \nL 2450 531 \nL 3481 531 \nL 3481 0 \nL 794 0 \nL 794 531 \nz\n\" id=\"DejaVuSans-31\" transform=\"scale(0.015625)\"/>\n       </defs>\n       <use xlink:href=\"#DejaVuSans-31\"/>\n       <use x=\"63.623047\" xlink:href=\"#DejaVuSans-30\"/>\n       <use x=\"127.246094\" xlink:href=\"#DejaVuSans-30\"/>\n      </g>\n     </g>\n    </g>\n    <g id=\"text_7\">\n     <!-- Epoch -->\n     <g transform=\"translate(391.170313 297.685597)scale(0.1 -0.1)\">\n      <defs>\n       <path d=\"M 628 4666 \nL 3578 4666 \nL 3578 4134 \nL 1259 4134 \nL 1259 2753 \nL 3481 2753 \nL 3481 2222 \nL 1259 2222 \nL 1259 531 \nL 3634 531 \nL 3634 0 \nL 628 0 \nL 628 4666 \nz\n\" id=\"DejaVuSans-45\" transform=\"scale(0.015625)\"/>\n       <path d=\"M 1159 525 \nL 1159 -1331 \nL 581 -1331 \nL 581 3500 \nL 1159 3500 \nL 1159 2969 \nQ 1341 3281 1617 3432 \nQ 1894 3584 2278 3584 \nQ 2916 3584 3314 3078 \nQ 3713 2572 3713 1747 \nQ 3713 922 3314 415 \nQ 2916 -91 2278 -91 \nQ 1894 -91 1617 61 \nQ 1341 213 1159 525 \nz\nM 3116 1747 \nQ 3116 2381 2855 2742 \nQ 2594 3103 2138 3103 \nQ 1681 3103 1420 2742 \nQ 1159 2381 1159 1747 \nQ 1159 1113 1420 752 \nQ 1681 391 2138 391 \nQ 2594 391 2855 752 \nQ 3116 1113 3116 1747 \nz\n\" id=\"DejaVuSans-70\" transform=\"scale(0.015625)\"/>\n       <path d=\"M 1959 3097 \nQ 1497 3097 1228 2736 \nQ 959 2375 959 1747 \nQ 959 1119 1226 758 \nQ 1494 397 1959 397 \nQ 2419 397 2687 759 \nQ 2956 1122 2956 1747 \nQ 2956 2369 2687 2733 \nQ 2419 3097 1959 3097 \nz\nM 1959 3584 \nQ 2709 3584 3137 3096 \nQ 3566 2609 3566 1747 \nQ 3566 888 3137 398 \nQ 2709 -91 1959 -91 \nQ 1206 -91 779 398 \nQ 353 888 353 1747 \nQ 353 2609 779 3096 \nQ 1206 3584 1959 3584 \nz\n\" id=\"DejaVuSans-6f\" transform=\"scale(0.015625)\"/>\n       <path d=\"M 3122 3366 \nL 3122 2828 \nQ 2878 2963 2633 3030 \nQ 2388 3097 2138 3097 \nQ 1578 3097 1268 2742 \nQ 959 2388 959 1747 \nQ 959 1106 1268 751 \nQ 1578 397 2138 397 \nQ 2388 397 2633 464 \nQ 2878 531 3122 666 \nL 3122 134 \nQ 2881 22 2623 -34 \nQ 2366 -91 2075 -91 \nQ 1284 -91 818 406 \nQ 353 903 353 1747 \nQ 353 2603 823 3093 \nQ 1294 3584 2113 3584 \nQ 2378 3584 2631 3529 \nQ 2884 3475 3122 3366 \nz\n\" id=\"DejaVuSans-63\" transform=\"scale(0.015625)\"/>\n       <path d=\"M 3513 2113 \nL 3513 0 \nL 2938 0 \nL 2938 2094 \nQ 2938 2591 2744 2837 \nQ 2550 3084 2163 3084 \nQ 1697 3084 1428 2787 \nQ 1159 2491 1159 1978 \nL 1159 0 \nL 581 0 \nL 581 4863 \nL 1159 4863 \nL 1159 2956 \nQ 1366 3272 1645 3428 \nQ 1925 3584 2291 3584 \nQ 2894 3584 3203 3211 \nQ 3513 2838 3513 2113 \nz\n\" id=\"DejaVuSans-68\" transform=\"scale(0.015625)\"/>\n      </defs>\n      <use xlink:href=\"#DejaVuSans-45\"/>\n      <use x=\"63.183594\" xlink:href=\"#DejaVuSans-70\"/>\n      <use x=\"126.660156\" xlink:href=\"#DejaVuSans-6f\"/>\n      <use x=\"187.841797\" xlink:href=\"#DejaVuSans-63\"/>\n      <use x=\"242.822266\" xlink:href=\"#DejaVuSans-68\"/>\n     </g>\n    </g>\n   </g>\n   <g id=\"matplotlib.axis_2\">\n    <g id=\"ytick_1\">\n     <g id=\"line2d_7\">\n      <defs>\n       <path d=\"M 0 0 \nL -3.5 0 \n\" id=\"mb45c9f27f8\" style=\"stroke:#000000;stroke-width:0.8;\"/>\n      </defs>\n      <g>\n       <use style=\"stroke:#000000;stroke-width:0.8;\" x=\"43.78125\" xlink:href=\"#mb45c9f27f8\" y=\"229.896225\"/>\n      </g>\n     </g>\n     <g id=\"text_8\">\n      <!-- 0.2 -->\n      <g transform=\"translate(20.878125 233.695444)scale(0.1 -0.1)\">\n       <defs>\n        <path d=\"M 684 794 \nL 1344 794 \nL 1344 0 \nL 684 0 \nL 684 794 \nz\n\" id=\"DejaVuSans-2e\" transform=\"scale(0.015625)\"/>\n       </defs>\n       <use xlink:href=\"#DejaVuSans-30\"/>\n       <use x=\"63.623047\" xlink:href=\"#DejaVuSans-2e\"/>\n       <use x=\"95.410156\" xlink:href=\"#DejaVuSans-32\"/>\n      </g>\n     </g>\n    </g>\n    <g id=\"ytick_2\">\n     <g id=\"line2d_8\">\n      <g>\n       <use style=\"stroke:#000000;stroke-width:0.8;\" x=\"43.78125\" xlink:href=\"#mb45c9f27f8\" y=\"180.175357\"/>\n      </g>\n     </g>\n     <g id=\"text_9\">\n      <!-- 0.4 -->\n      <g transform=\"translate(20.878125 183.974576)scale(0.1 -0.1)\">\n       <use xlink:href=\"#DejaVuSans-30\"/>\n       <use x=\"63.623047\" xlink:href=\"#DejaVuSans-2e\"/>\n       <use x=\"95.410156\" xlink:href=\"#DejaVuSans-34\"/>\n      </g>\n     </g>\n    </g>\n    <g id=\"ytick_3\">\n     <g id=\"line2d_9\">\n      <g>\n       <use style=\"stroke:#000000;stroke-width:0.8;\" x=\"43.78125\" xlink:href=\"#mb45c9f27f8\" y=\"130.454489\"/>\n      </g>\n     </g>\n     <g id=\"text_10\">\n      <!-- 0.6 -->\n      <g transform=\"translate(20.878125 134.253708)scale(0.1 -0.1)\">\n       <use xlink:href=\"#DejaVuSans-30\"/>\n       <use x=\"63.623047\" xlink:href=\"#DejaVuSans-2e\"/>\n       <use x=\"95.410156\" xlink:href=\"#DejaVuSans-36\"/>\n      </g>\n     </g>\n    </g>\n    <g id=\"ytick_4\">\n     <g id=\"line2d_10\">\n      <g>\n       <use style=\"stroke:#000000;stroke-width:0.8;\" x=\"43.78125\" xlink:href=\"#mb45c9f27f8\" y=\"80.73362\"/>\n      </g>\n     </g>\n     <g id=\"text_11\">\n      <!-- 0.8 -->\n      <g transform=\"translate(20.878125 84.532839)scale(0.1 -0.1)\">\n       <use xlink:href=\"#DejaVuSans-30\"/>\n       <use x=\"63.623047\" xlink:href=\"#DejaVuSans-2e\"/>\n       <use x=\"95.410156\" xlink:href=\"#DejaVuSans-38\"/>\n      </g>\n     </g>\n    </g>\n    <g id=\"ytick_5\">\n     <g id=\"line2d_11\">\n      <g>\n       <use style=\"stroke:#000000;stroke-width:0.8;\" x=\"43.78125\" xlink:href=\"#mb45c9f27f8\" y=\"31.012752\"/>\n      </g>\n     </g>\n     <g id=\"text_12\">\n      <!-- 1.0 -->\n      <g transform=\"translate(20.878125 34.811971)scale(0.1 -0.1)\">\n       <use xlink:href=\"#DejaVuSans-31\"/>\n       <use x=\"63.623047\" xlink:href=\"#DejaVuSans-2e\"/>\n       <use x=\"95.410156\" xlink:href=\"#DejaVuSans-30\"/>\n      </g>\n     </g>\n    </g>\n    <g id=\"text_13\">\n     <!-- Loss/Accuracy -->\n     <g transform=\"translate(14.798438 181.343267)rotate(-90)scale(0.1 -0.1)\">\n      <defs>\n       <path d=\"M 628 4666 \nL 1259 4666 \nL 1259 531 \nL 3531 531 \nL 3531 0 \nL 628 0 \nL 628 4666 \nz\n\" id=\"DejaVuSans-4c\" transform=\"scale(0.015625)\"/>\n       <path d=\"M 2834 3397 \nL 2834 2853 \nQ 2591 2978 2328 3040 \nQ 2066 3103 1784 3103 \nQ 1356 3103 1142 2972 \nQ 928 2841 928 2578 \nQ 928 2378 1081 2264 \nQ 1234 2150 1697 2047 \nL 1894 2003 \nQ 2506 1872 2764 1633 \nQ 3022 1394 3022 966 \nQ 3022 478 2636 193 \nQ 2250 -91 1575 -91 \nQ 1294 -91 989 -36 \nQ 684 19 347 128 \nL 347 722 \nQ 666 556 975 473 \nQ 1284 391 1588 391 \nQ 1994 391 2212 530 \nQ 2431 669 2431 922 \nQ 2431 1156 2273 1281 \nQ 2116 1406 1581 1522 \nL 1381 1569 \nQ 847 1681 609 1914 \nQ 372 2147 372 2553 \nQ 372 3047 722 3315 \nQ 1072 3584 1716 3584 \nQ 2034 3584 2315 3537 \nQ 2597 3491 2834 3397 \nz\n\" id=\"DejaVuSans-73\" transform=\"scale(0.015625)\"/>\n       <path d=\"M 1625 4666 \nL 2156 4666 \nL 531 -594 \nL 0 -594 \nL 1625 4666 \nz\n\" id=\"DejaVuSans-2f\" transform=\"scale(0.015625)\"/>\n       <path d=\"M 2188 4044 \nL 1331 1722 \nL 3047 1722 \nL 2188 4044 \nz\nM 1831 4666 \nL 2547 4666 \nL 4325 0 \nL 3669 0 \nL 3244 1197 \nL 1141 1197 \nL 716 0 \nL 50 0 \nL 1831 4666 \nz\n\" id=\"DejaVuSans-41\" transform=\"scale(0.015625)\"/>\n       <path d=\"M 544 1381 \nL 544 3500 \nL 1119 3500 \nL 1119 1403 \nQ 1119 906 1312 657 \nQ 1506 409 1894 409 \nQ 2359 409 2629 706 \nQ 2900 1003 2900 1516 \nL 2900 3500 \nL 3475 3500 \nL 3475 0 \nL 2900 0 \nL 2900 538 \nQ 2691 219 2414 64 \nQ 2138 -91 1772 -91 \nQ 1169 -91 856 284 \nQ 544 659 544 1381 \nz\nM 1991 3584 \nL 1991 3584 \nz\n\" id=\"DejaVuSans-75\" transform=\"scale(0.015625)\"/>\n       <path d=\"M 2631 2963 \nQ 2534 3019 2420 3045 \nQ 2306 3072 2169 3072 \nQ 1681 3072 1420 2755 \nQ 1159 2438 1159 1844 \nL 1159 0 \nL 581 0 \nL 581 3500 \nL 1159 3500 \nL 1159 2956 \nQ 1341 3275 1631 3429 \nQ 1922 3584 2338 3584 \nQ 2397 3584 2469 3576 \nQ 2541 3569 2628 3553 \nL 2631 2963 \nz\n\" id=\"DejaVuSans-72\" transform=\"scale(0.015625)\"/>\n       <path d=\"M 2194 1759 \nQ 1497 1759 1228 1600 \nQ 959 1441 959 1056 \nQ 959 750 1161 570 \nQ 1363 391 1709 391 \nQ 2188 391 2477 730 \nQ 2766 1069 2766 1631 \nL 2766 1759 \nL 2194 1759 \nz\nM 3341 1997 \nL 3341 0 \nL 2766 0 \nL 2766 531 \nQ 2569 213 2275 61 \nQ 1981 -91 1556 -91 \nQ 1019 -91 701 211 \nQ 384 513 384 1019 \nQ 384 1609 779 1909 \nQ 1175 2209 1959 2209 \nL 2766 2209 \nL 2766 2266 \nQ 2766 2663 2505 2880 \nQ 2244 3097 1772 3097 \nQ 1472 3097 1187 3025 \nQ 903 2953 641 2809 \nL 641 3341 \nQ 956 3463 1253 3523 \nQ 1550 3584 1831 3584 \nQ 2591 3584 2966 3190 \nQ 3341 2797 3341 1997 \nz\n\" id=\"DejaVuSans-61\" transform=\"scale(0.015625)\"/>\n       <path d=\"M 2059 -325 \nQ 1816 -950 1584 -1140 \nQ 1353 -1331 966 -1331 \nL 506 -1331 \nL 506 -850 \nL 844 -850 \nQ 1081 -850 1212 -737 \nQ 1344 -625 1503 -206 \nL 1606 56 \nL 191 3500 \nL 800 3500 \nL 1894 763 \nL 2988 3500 \nL 3597 3500 \nL 2059 -325 \nz\n\" id=\"DejaVuSans-79\" transform=\"scale(0.015625)\"/>\n      </defs>\n      <use xlink:href=\"#DejaVuSans-4c\"/>\n      <use x=\"53.962891\" xlink:href=\"#DejaVuSans-6f\"/>\n      <use x=\"115.144531\" xlink:href=\"#DejaVuSans-73\"/>\n      <use x=\"167.244141\" xlink:href=\"#DejaVuSans-73\"/>\n      <use x=\"219.34375\" xlink:href=\"#DejaVuSans-2f\"/>\n      <use x=\"253.035156\" xlink:href=\"#DejaVuSans-41\"/>\n      <use x=\"319.693359\" xlink:href=\"#DejaVuSans-63\"/>\n      <use x=\"374.673828\" xlink:href=\"#DejaVuSans-63\"/>\n      <use x=\"429.654297\" xlink:href=\"#DejaVuSans-75\"/>\n      <use x=\"493.033203\" xlink:href=\"#DejaVuSans-72\"/>\n      <use x=\"534.146484\" xlink:href=\"#DejaVuSans-61\"/>\n      <use x=\"595.425781\" xlink:href=\"#DejaVuSans-63\"/>\n      <use x=\"650.40625\" xlink:href=\"#DejaVuSans-79\"/>\n     </g>\n    </g>\n   </g>\n   <g id=\"line2d_12\">\n    <path clip-path=\"url(#p169253cf18)\" d=\"M 76.753977 180.682716 \nL 83.415134 112.189686 \nL 90.076291 81.748338 \nL 96.737448 81.748338 \nL 103.398605 79.21156 \nL 110.059762 69.064434 \nL 116.720919 71.601212 \nL 123.382076 69.064434 \nL 130.043233 76.674767 \nL 136.70439 71.601212 \nL 143.365548 74.137989 \nL 150.026705 74.137989 \nL 156.687862 69.064434 \nL 163.349019 69.064434 \nL 170.010176 69.064434 \nL 176.671333 69.064434 \nL 183.33249 69.064434 \nL 189.993647 69.064434 \nL 196.654804 69.064434 \nL 203.315961 63.990878 \nL 209.977118 63.990878 \nL 216.638275 63.990878 \nL 223.299432 63.990878 \nL 229.960589 63.990878 \nL 236.621746 58.917323 \nL 243.282903 58.917323 \nL 249.94406 56.380545 \nL 256.605217 56.380545 \nL 263.266374 56.380545 \nL 269.927531 56.380545 \nL 276.588688 53.843767 \nL 283.249845 53.843767 \nL 289.911002 53.843767 \nL 296.572159 56.380545 \nL 303.233316 53.843767 \nL 309.894473 53.843767 \nL 316.55563 53.843767 \nL 323.216787 51.306989 \nL 329.877944 51.306989 \nL 336.539101 51.306989 \nL 343.200258 51.306989 \nL 349.861415 51.306989 \nL 356.522572 51.306989 \nL 363.183729 51.306989 \nL 369.844886 48.770211 \nL 376.506043 51.306989 \nL 383.1672 51.306989 \nL 389.828357 48.770211 \nL 396.489514 51.306989 \nL 403.150671 46.233419 \nL 409.811829 43.696641 \nL 416.472986 48.770211 \nL 423.134143 43.696641 \nL 429.7953 46.233419 \nL 436.456457 43.696641 \nL 443.117614 43.696641 \nL 449.778771 46.233419 \nL 456.439928 43.696641 \nL 463.101085 43.696641 \nL 469.762242 43.696641 \nL 476.423399 43.696641 \nL 483.084556 43.696641 \nL 489.745713 43.696641 \nL 496.40687 43.696641 \nL 503.068027 43.696641 \nL 509.729184 41.159863 \nL 516.390341 41.159863 \nL 523.051498 41.159863 \nL 529.712655 41.159863 \nL 536.373812 41.159863 \nL 543.034969 41.159863 \nL 549.696126 41.159863 \nL 556.357283 41.159863 \nL 563.01844 41.159863 \nL 569.679597 41.159863 \nL 576.340754 41.159863 \nL 583.001911 41.159863 \nL 589.663068 41.159863 \nL 596.324225 41.159863 \nL 602.985382 41.159863 \nL 609.646539 41.159863 \nL 616.307696 41.159863 \nL 622.968853 41.159863 \nL 629.63001 41.159863 \nL 636.291167 41.159863 \nL 642.952324 41.159863 \nL 649.613481 41.159863 \nL 656.274638 38.623086 \nL 662.935795 41.159863 \nL 669.596952 38.623086 \nL 676.25811 38.623086 \nL 682.919267 38.623086 \nL 689.580424 36.086308 \nL 696.241581 38.623086 \nL 702.902738 33.54953 \nL 709.563895 36.086308 \nL 716.225052 38.623086 \nL 722.886209 33.54953 \nL 729.547366 36.086308 \nL 736.208523 33.54953 \n\" style=\"fill:none;stroke:#1f77b4;stroke-linecap:square;stroke-width:1.5;\"/>\n   </g>\n   <g id=\"line2d_13\">\n    <path clip-path=\"url(#p169253cf18)\" d=\"M 76.753977 84.070344 \nL 83.415134 120.751155 \nL 90.076291 141.992794 \nL 96.737448 156.01791 \nL 103.398605 166.278127 \nL 110.059762 174.116131 \nL 116.720919 179.410074 \nL 123.382076 183.487728 \nL 130.043233 187.10038 \nL 136.70439 189.954455 \nL 143.365548 191.847058 \nL 150.026705 193.732171 \nL 156.687862 195.58204 \nL 163.349019 197.332761 \nL 170.010176 198.339272 \nL 176.671333 199.803102 \nL 183.33249 200.533414 \nL 189.993647 201.696484 \nL 196.654804 203.098353 \nL 203.315961 204.164269 \nL 209.977118 205.11908 \nL 216.638275 205.689439 \nL 223.299432 207.071711 \nL 229.960589 207.984009 \nL 236.621746 208.786299 \nL 243.282903 210.095044 \nL 249.94406 210.445949 \nL 256.605217 211.783656 \nL 263.266374 212.539617 \nL 269.927531 213.813859 \nL 276.588688 214.548861 \nL 283.249845 215.226131 \nL 289.911002 216.138688 \nL 296.572159 216.957485 \nL 303.233316 217.860426 \nL 309.894473 218.738472 \nL 316.55563 219.678109 \nL 323.216787 220.313489 \nL 329.877944 221.327354 \nL 336.539101 222.213765 \nL 343.200258 222.843299 \nL 349.861415 223.887021 \nL 356.522572 224.45129 \nL 363.183729 225.544356 \nL 369.844886 226.226187 \nL 376.506043 227.001845 \nL 383.1672 227.656329 \nL 389.828357 228.73091 \nL 396.489514 229.333194 \nL 403.150671 229.714897 \nL 409.811829 231.212009 \nL 416.472986 231.740303 \nL 423.134143 232.241343 \nL 429.7953 232.972236 \nL 436.456457 233.97612 \nL 443.117614 234.843264 \nL 449.778771 235.221408 \nL 456.439928 235.532382 \nL 463.101085 236.855967 \nL 469.762242 237.042218 \nL 476.423399 237.879152 \nL 483.084556 238.932029 \nL 489.745713 239.282344 \nL 496.40687 240.011422 \nL 503.068027 240.410184 \nL 509.729184 241.358957 \nL 516.390341 242.236251 \nL 523.051498 242.752721 \nL 529.712655 243.474852 \nL 536.373812 244.003006 \nL 543.034969 244.586186 \nL 549.696126 245.126078 \nL 556.357283 245.637788 \nL 563.01844 245.9404 \nL 569.679597 246.633567 \nL 576.340754 247.238203 \nL 583.001911 247.608434 \nL 589.663068 248.277854 \nL 596.324225 248.628355 \nL 602.985382 249.126509 \nL 609.646539 249.276947 \nL 616.307696 250.413593 \nL 622.968853 250.722019 \nL 629.63001 251.257202 \nL 636.291167 251.918317 \nL 642.952324 252.225866 \nL 649.613481 252.356864 \nL 656.274638 253.030667 \nL 662.935795 253.527677 \nL 669.596952 254.007631 \nL 676.25811 254.567108 \nL 682.919267 254.586314 \nL 689.580424 255.094524 \nL 696.241581 255.685315 \nL 702.902738 255.74414 \nL 709.563895 256.349625 \nL 716.225052 256.931234 \nL 722.886209 257.411303 \nL 729.547366 257.56493 \nL 736.208523 258.177629 \n\" style=\"fill:none;stroke:#ff7f0e;stroke-linecap:square;stroke-width:1.5;\"/>\n   </g>\n   <g id=\"patch_3\">\n    <path d=\"M 43.78125 269.409034 \nL 43.78125 22.318125 \n\" style=\"fill:none;stroke:#000000;stroke-linecap:square;stroke-linejoin:miter;stroke-width:0.8;\"/>\n   </g>\n   <g id=\"patch_4\">\n    <path d=\"M 769.18125 269.409034 \nL 769.18125 22.318125 \n\" style=\"fill:none;stroke:#000000;stroke-linecap:square;stroke-linejoin:miter;stroke-width:0.8;\"/>\n   </g>\n   <g id=\"patch_5\">\n    <path d=\"M 43.78125 269.409034 \nL 769.18125 269.409034 \n\" style=\"fill:none;stroke:#000000;stroke-linecap:square;stroke-linejoin:miter;stroke-width:0.8;\"/>\n   </g>\n   <g id=\"patch_6\">\n    <path d=\"M 43.78125 22.318125 \nL 769.18125 22.318125 \n\" style=\"fill:none;stroke:#000000;stroke-linecap:square;stroke-linejoin:miter;stroke-width:0.8;\"/>\n   </g>\n   <g id=\"text_14\">\n    <!-- Loss and accuracy -->\n    <g transform=\"translate(351.147188 16.318125)scale(0.12 -0.12)\">\n     <defs>\n      <path id=\"DejaVuSans-20\" transform=\"scale(0.015625)\"/>\n      <path d=\"M 3513 2113 \nL 3513 0 \nL 2938 0 \nL 2938 2094 \nQ 2938 2591 2744 2837 \nQ 2550 3084 2163 3084 \nQ 1697 3084 1428 2787 \nQ 1159 2491 1159 1978 \nL 1159 0 \nL 581 0 \nL 581 3500 \nL 1159 3500 \nL 1159 2956 \nQ 1366 3272 1645 3428 \nQ 1925 3584 2291 3584 \nQ 2894 3584 3203 3211 \nQ 3513 2838 3513 2113 \nz\n\" id=\"DejaVuSans-6e\" transform=\"scale(0.015625)\"/>\n      <path d=\"M 2906 2969 \nL 2906 4863 \nL 3481 4863 \nL 3481 0 \nL 2906 0 \nL 2906 525 \nQ 2725 213 2448 61 \nQ 2172 -91 1784 -91 \nQ 1150 -91 751 415 \nQ 353 922 353 1747 \nQ 353 2572 751 3078 \nQ 1150 3584 1784 3584 \nQ 2172 3584 2448 3432 \nQ 2725 3281 2906 2969 \nz\nM 947 1747 \nQ 947 1113 1208 752 \nQ 1469 391 1925 391 \nQ 2381 391 2643 752 \nQ 2906 1113 2906 1747 \nQ 2906 2381 2643 2742 \nQ 2381 3103 1925 3103 \nQ 1469 3103 1208 2742 \nQ 947 2381 947 1747 \nz\n\" id=\"DejaVuSans-64\" transform=\"scale(0.015625)\"/>\n     </defs>\n     <use xlink:href=\"#DejaVuSans-4c\"/>\n     <use x=\"53.962891\" xlink:href=\"#DejaVuSans-6f\"/>\n     <use x=\"115.144531\" xlink:href=\"#DejaVuSans-73\"/>\n     <use x=\"167.244141\" xlink:href=\"#DejaVuSans-73\"/>\n     <use x=\"219.34375\" xlink:href=\"#DejaVuSans-20\"/>\n     <use x=\"251.130859\" xlink:href=\"#DejaVuSans-61\"/>\n     <use x=\"312.410156\" xlink:href=\"#DejaVuSans-6e\"/>\n     <use x=\"375.789062\" xlink:href=\"#DejaVuSans-64\"/>\n     <use x=\"439.265625\" xlink:href=\"#DejaVuSans-20\"/>\n     <use x=\"471.052734\" xlink:href=\"#DejaVuSans-61\"/>\n     <use x=\"532.332031\" xlink:href=\"#DejaVuSans-63\"/>\n     <use x=\"587.3125\" xlink:href=\"#DejaVuSans-63\"/>\n     <use x=\"642.292969\" xlink:href=\"#DejaVuSans-75\"/>\n     <use x=\"705.671875\" xlink:href=\"#DejaVuSans-72\"/>\n     <use x=\"746.785156\" xlink:href=\"#DejaVuSans-61\"/>\n     <use x=\"808.064453\" xlink:href=\"#DejaVuSans-63\"/>\n     <use x=\"863.044922\" xlink:href=\"#DejaVuSans-79\"/>\n    </g>\n   </g>\n   <g id=\"legend_1\">\n    <g id=\"patch_7\">\n     <path d=\"M 685.0625 59.674375 \nL 762.18125 59.674375 \nQ 764.18125 59.674375 764.18125 57.674375 \nL 764.18125 29.318125 \nQ 764.18125 27.318125 762.18125 27.318125 \nL 685.0625 27.318125 \nQ 683.0625 27.318125 683.0625 29.318125 \nL 683.0625 57.674375 \nQ 683.0625 59.674375 685.0625 59.674375 \nz\n\" style=\"fill:#ffffff;opacity:0.8;stroke:#cccccc;stroke-linejoin:miter;\"/>\n    </g>\n    <g id=\"line2d_14\">\n     <path d=\"M 687.0625 35.416562 \nL 707.0625 35.416562 \n\" style=\"fill:none;stroke:#1f77b4;stroke-linecap:square;stroke-width:1.5;\"/>\n    </g>\n    <g id=\"line2d_15\"/>\n    <g id=\"text_15\">\n     <!-- accuracy -->\n     <g transform=\"translate(715.0625 38.916562)scale(0.1 -0.1)\">\n      <use xlink:href=\"#DejaVuSans-61\"/>\n      <use x=\"61.279297\" xlink:href=\"#DejaVuSans-63\"/>\n      <use x=\"116.259766\" xlink:href=\"#DejaVuSans-63\"/>\n      <use x=\"171.240234\" xlink:href=\"#DejaVuSans-75\"/>\n      <use x=\"234.619141\" xlink:href=\"#DejaVuSans-72\"/>\n      <use x=\"275.732422\" xlink:href=\"#DejaVuSans-61\"/>\n      <use x=\"337.011719\" xlink:href=\"#DejaVuSans-63\"/>\n      <use x=\"391.992188\" xlink:href=\"#DejaVuSans-79\"/>\n     </g>\n    </g>\n    <g id=\"line2d_16\">\n     <path d=\"M 687.0625 50.094687 \nL 707.0625 50.094687 \n\" style=\"fill:none;stroke:#ff7f0e;stroke-linecap:square;stroke-width:1.5;\"/>\n    </g>\n    <g id=\"line2d_17\"/>\n    <g id=\"text_16\">\n     <!-- loss -->\n     <g transform=\"translate(715.0625 53.594687)scale(0.1 -0.1)\">\n      <defs>\n       <path d=\"M 603 4863 \nL 1178 4863 \nL 1178 0 \nL 603 0 \nL 603 4863 \nz\n\" id=\"DejaVuSans-6c\" transform=\"scale(0.015625)\"/>\n      </defs>\n      <use xlink:href=\"#DejaVuSans-6c\"/>\n      <use x=\"27.783203\" xlink:href=\"#DejaVuSans-6f\"/>\n      <use x=\"88.964844\" xlink:href=\"#DejaVuSans-73\"/>\n      <use x=\"141.064453\" xlink:href=\"#DejaVuSans-73\"/>\n     </g>\n    </g>\n   </g>\n  </g>\n </g>\n <defs>\n  <clipPath id=\"p169253cf18\">\n   <rect height=\"247.090909\" width=\"725.4\" x=\"43.78125\" y=\"22.318125\"/>\n  </clipPath>\n </defs>\n</svg>\n",
      "image/png": "[encoded data removed]"
     },
     "metadata": {
      "needs_background": "light"
     }
    }
   ],
   "source": [
    "\n",
    "accuracy = history.history['accuracy']\n",
    "loss = history.history['loss']\n",
    "\n",
    "fig = plt.figure(figsize=(13,10))\n",
    "ax2 = fig.add_subplot(2, 1, 2)\n",
    "ax2.plot(accuracy)\n",
    "ax2.plot(loss)\n",
    "ax2.set_title('Loss and accuracy')\n",
    "ax2.set_ylabel('Loss/Accuracy')\n",
    "ax2.set_xlabel('Epoch')\n",
    "ax2.legend(['accuracy', 'loss'], loc='upper right')\n",
    "\n",
    "plt.show() "
   ]
  }
 ]
}